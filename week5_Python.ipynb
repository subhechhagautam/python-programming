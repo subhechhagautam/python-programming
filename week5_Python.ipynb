{
 "cells": [
  {
   "cell_type": "code",
   "execution_count": 3,
   "metadata": {},
   "outputs": [
    {
     "name": "stdout",
     "output_type": "stream",
     "text": [
      "Original array:\n",
      " [1 2 3 4 5 6]\n",
      "--------------\n",
      "Reshaped array:\n",
      " [[1 2 3]\n",
      " [4 5 6]]\n"
     ]
    }
   ],
   "source": [
    "# Reshaping 3x4 array to 2x2x3 array\n",
    "import numpy as np\n",
    "arr = np.array([1,2,3,4,5,6 ])\n",
    "\n",
    "\n",
    "newarr = arr.reshape(2,3)\n",
    "\n",
    "print(\"Original array:\\n\",arr)\n",
    "print(\"--------------\")\n",
    "print(\"Reshaped array:\\n\", newarr)"
   ]
  },
  {
   "cell_type": "markdown",
   "metadata": {},
   "source": [
    "### Flatten Array\n",
    "- Flatten method flattens array to one dimension and returns copy of collapsed array"
   ]
  },
  {
   "cell_type": "code",
   "execution_count": 4,
   "metadata": {},
   "outputs": [
    {
     "name": "stdout",
     "output_type": "stream",
     "text": [
      "Original array:\n",
      " [[1 2 3]\n",
      " [4 5 6]]\n",
      "Flattened array:\n",
      " [1 2 3 4 5 6]\n"
     ]
    }
   ],
   "source": [
    "arr = np.array([[1,2,3], [4,5,6]])\n",
    "flat_arr = arr.flatten()\n",
    "\n",
    "print(\"Original array:\\n\", arr)\n",
    "print(\"Flattened array:\\n\", flat_arr)"
   ]
  },
  {
   "cell_type": "markdown",
   "metadata": {},
   "source": [
    "## NumPy Array Indexing and Slicing\n",
    "## Basic Indexing\n",
    " Indexing allows us to access the individual elements or subsets of data"
   ]
  },
  {
   "cell_type": "code",
   "execution_count": 7,
   "metadata": {},
   "outputs": [
    {
     "name": "stdout",
     "output_type": "stream",
     "text": [
      "(6,)\n",
      "1\n",
      "6\n",
      "4\n",
      "print dimension of array\n",
      "2\n",
      "print shape of the array\n",
      "(3, 3)\n",
      "print total number of items\n",
      "9\n",
      "first row first element\n",
      "1\n",
      "last row last element\n",
      "8\n",
      "second row third element\n",
      "6\n",
      "third row second element\n",
      "7\n"
     ]
    }
   ],
   "source": [
    "# 1D Array Indexing\n",
    "arr = np.array([1,2,3,4,5,6])\n",
    "print(arr.shape)\n",
    "print(arr[0]) # first element\n",
    "print(arr[-1]) # last element\n",
    "print(arr[3]) #fourth element\n",
    "\n",
    "# 2D Array Inedxing \n",
    "num_2d_array = np.array([\n",
    "                        [1,2,3],\n",
    "                        [4,5,6],\n",
    "                        [6,7,8]\n",
    "])\n",
    "print(\"print dimension of array\")\n",
    "print(num_2d_array.ndim) \n",
    "print(\"print shape of the array\")\n",
    "print(num_2d_array.shape)\n",
    "print(\"print total number of items\")\n",
    "print(num_2d_array.size)\n",
    "\n",
    "print(\"first row first element\")\n",
    "print(num_2d_array[0,0])\n",
    "print(\"last row last element\")\n",
    "print(num_2d_array[-1,-1])\n",
    "print(\"second row third element\")\n",
    "print(num_2d_array[1,2])\n",
    "print(\"third row second element\")\n",
    "print(num_2d_array[2,1])\n",
    "\n",
    "\n"
   ]
  },
  {
   "cell_type": "markdown",
   "metadata": {},
   "source": [
    "## Slicing in NumPy\n",
    "In NumPy we can access the portion of an array using the slice operator"
   ]
  },
  {
   "cell_type": "markdown",
   "metadata": {},
   "source": [
    "1-D Array Slicing \n",
    "syntax: array[start:stop:step]\n",
    "- start: Index of the first element to be included in slice\n",
    "- stop: index of the last element (exclusive)\n",
    "- step: step size between each elemnt in the slice\n",
    "\n",
    "\n"
   ]
  },
  {
   "cell_type": "code",
   "execution_count": null,
   "metadata": {},
   "outputs": [],
   "source": [
    "arr = np.array([1,2,3,4,5,6,7,8,10,11])\n",
    "\n",
    "# slice array from index 2-6 (6 exclusive)\n",
    "print(arr[2:6])\n",
    "\n",
    "# slice array from 0 to 8 with a step size of 2\n",
    "print(arr[0:8:2])\n",
    "\n",
    "# slice array from index 4 to last element\n",
    "print(arr[4:])\n",
    "\n",
    "\n",
    "# slice array from start to 5th index(5th index excluded)\n",
    "print(arr[:5])\n",
    "\n",
    "#negative index\n",
    "print(arr[-1::-2]) # slice every second element from end to start\n",
    "\n",
    "\n",
    "# we can also modify the array with slicing \n",
    "arr[:5] = 100 # replace items from 0-5 with 100\n",
    "print(arr)\n",
    "\n",
    "\n"
   ]
  },
  {
   "cell_type": "markdown",
   "metadata": {},
   "source": [
    "## 2-D Array Slicing\n",
    "syntax: array[row_start:row_stop:row_step, col_start:col_stop:col_step]"
   ]
  },
  {
   "cell_type": "code",
   "execution_count": 9,
   "metadata": {},
   "outputs": [
    {
     "name": "stdout",
     "output_type": "stream",
     "text": [
      "2\n",
      "[[1 2 3]]\n",
      "[[1 2]\n",
      " [4 5]]\n"
     ]
    }
   ],
   "source": [
    "array_2d = np.array([\n",
    "                [1,2,3],\n",
    "                [4,5,6],\n",
    "                [7,8,9]\n",
    "])\n",
    "print(array_2d.ndim)\n",
    "\n",
    "# slice first row\n",
    "print(array_2d[0:1])\n",
    "\n",
    "#slice array from first two rows and first tow columns\n",
    "\n",
    "print(array_2d[0:2,0:2])"
   ]
  },
  {
   "cell_type": "markdown",
   "metadata": {},
   "source": [
    "## Boolean Array Indexing\n",
    "Boolean array indexing allows us to select elemts from an array based on conditions. This technique is helpful when we need to filter elemts based on certain condtion. "
   ]
  },
  {
   "cell_type": "code",
   "execution_count": 11,
   "metadata": {},
   "outputs": [
    {
     "name": "stdout",
     "output_type": "stream",
     "text": [
      "[20 25 30]\n",
      "[10 20 30]\n",
      "[ 5 10 15 99 99 99]\n",
      "[5 6 7 8 9]\n",
      "[[1 2 3]\n",
      " [4 0 0]\n",
      " [0 0 0]]\n"
     ]
    }
   ],
   "source": [
    "#creating an array\n",
    "arr = np.array([5,10,15,20,25,30])\n",
    "\n",
    "#slect elemtns greater than 15\n",
    "print(arr[arr>15]) #output: [20 25 30]\n",
    "\n",
    "#select elements that are even\n",
    "print(arr[arr % 2 == 0])\n",
    "\n",
    "#modifying elements that satisfy a condition\n",
    "arr[arr > 15] = 99\n",
    "print(arr)\n",
    "\n",
    "arr2d = np.array([[1,2,3], [4,5,6], [7,8,9]])\n",
    "\n",
    "#extract elements greater than 4\n",
    "print(arr2d[arr2d > 4])\n",
    "\n",
    "# Setting elements greater than 4 to zero\n",
    "arr2d[arr2d > 4] = 0\n",
    "print(arr2d)"
   ]
  },
  {
   "cell_type": "markdown",
   "metadata": {},
   "source": [
    "## NumPy Operation\n",
    "• NumPy Arithmetic Array Operations\n",
    "\n",
    "• NumPy Array Functions\n",
    "\n",
    "• NumPy Comparison/Logical Operations\n",
    "\n",
    "• NumPy Math Functions\n",
    "\n",
    "• NumPy Constants\n",
    "\n",
    "• NumPy Statistical Functions\n",
    "\n",
    "## NumPy Arthimetic Operation \n",
    "- add()\n",
    "- subract()\n",
    "- multipy()\n",
    "- divide()\n",
    "- power()\n",
    "- mod()\n"
   ]
  },
  {
   "cell_type": "code",
   "execution_count": 14,
   "metadata": {},
   "outputs": [
    {
     "name": "stdout",
     "output_type": "stream",
     "text": [
      "[ 3  6  9 12]\n",
      "[-1  0  1  0]\n",
      "[ 2  9 20 36]\n",
      "[0.5  1.   1.25 1.  ]\n",
      "[ 1  9 25 36]\n",
      "[1 0 1 0]\n"
     ]
    }
   ],
   "source": [
    "first_array = ([1, 3, 5, 6])\n",
    "second_array = np.array([2,3,4,6])\n",
    "\n",
    "print(np.add(first_array, second_array))\n",
    "print(np.subtract(first_array, second_array))\n",
    "print(np.multiply(first_array, second_array))\n",
    "print(np.divide(first_array, second_array))\n",
    "print(np.power(first_array, 2))\n",
    "print(np.mod(first_array, second_array))"
   ]
  },
  {
   "cell_type": "markdown",
   "metadata": {},
   "source": [
    "## NumPy Broadcasting\n",
    "- Broadcasting in NumPy allows it to perform arthimetic operations on array with different shapes"
   ]
  },
  {
   "cell_type": "code",
   "execution_count": 15,
   "metadata": {},
   "outputs": [
    {
     "name": "stdout",
     "output_type": "stream",
     "text": [
      "[ 4  8 12 16]\n"
     ]
    }
   ],
   "source": [
    "arr1 = np.array([1,2,3,4])\n",
    "arr2 = np.array(4)\n",
    "result = arr1 * arr2\n",
    "print(result)"
   ]
  },
  {
   "cell_type": "markdown",
   "metadata": {},
   "source": [
    "# NumPy Array Functions\n",
    "= Outline •••\n",
    "\n",
    "NumPy has various built-in functions for various purposes\n",
    "\n",
    "• Array Creation Functions: np. array(), np. zeros(), p.ones ()\n",
    "\n",
    "• Manipulation Functions: np.reshape(), np. transpose()np. empty() etc\n",
    "\n",
    "• Mathematical Functions: np. add(), np. subtract(), np. sqrt(), np. power()\n",
    "\n",
    "• Statistical Functions: np. median(), np.mean (), np.std(), np. var()"
   ]
  },
  {
   "cell_type": "code",
   "execution_count": 20,
   "metadata": {},
   "outputs": [
    {
     "name": "stdout",
     "output_type": "stream",
     "text": [
      "11.666666666666666\n",
      "3.0\n",
      "20.295045919851695\n",
      "411.8888888888889\n"
     ]
    }
   ],
   "source": [
    "data = np.array([1,3,4,57,2,3])\n",
    "print(np.mean(data))\n",
    "print(np.median(data))\n",
    "print(np.std(data))\n",
    "print(np.var(data))"
   ]
  },
  {
   "cell_type": "markdown",
   "metadata": {},
   "source": [
    "## Array Manipulation Functions "
   ]
  },
  {
   "cell_type": "code",
   "execution_count": 23,
   "metadata": {},
   "outputs": [
    {
     "name": "stdout",
     "output_type": "stream",
     "text": [
      "[[1 2 3]\n",
      " [4 5 6]\n",
      " [7 8 9]]\n",
      "[[1 4 7]\n",
      " [2 5 8]\n",
      " [3 6 9]]\n"
     ]
    }
   ],
   "source": [
    "numbers = np.array([1,2,3,4,5,6,7,8,9])\n",
    "\n",
    "#reshape the 1D array into a 3D array\n",
    "reshaped_array = np.reshape(numbers, (3,3))\n",
    "print(reshaped_array)\n",
    "\n",
    "#transpose\n",
    "transposed_array = np.transpose(reshaped_array)\n",
    "print(transposed_array)"
   ]
  },
  {
   "cell_type": "markdown",
   "metadata": {},
   "source": [
    "# NumPy Matrix Operations\n",
    "- Matrix Multiplication `np. matmul()`\n",
    "- Dot Product `np.dot ()`\n",
    "- Cross Product `np.cross()`\n",
    "- Transpose `np.transpose`\n",
    "- Inverse `np.linalg inverse()`\n",
    "- Determinant `linalg.det()` linalg=>Linear Algebra\n",
    "- Norm `np.linalg.norm()`\n",
    "- Trace `np.linalg.trace()`"
   ]
  },
  {
   "cell_type": "code",
   "execution_count": 24,
   "metadata": {},
   "outputs": [
    {
     "name": "stdout",
     "output_type": "stream",
     "text": [
      "32\n"
     ]
    }
   ],
   "source": [
    "first_array = ([1,2,3])\n",
    "second_array = ([4,5,6])\n",
    "print(np.matmul(first_array, second_array))\n"
   ]
  },
  {
   "cell_type": "code",
   "execution_count": null,
   "metadata": {},
   "outputs": [],
   "source": []
  }
 ],
 "metadata": {
  "kernelspec": {
   "display_name": "base",
   "language": "python",
   "name": "python3"
  },
  "language_info": {
   "codemirror_mode": {
    "name": "ipython",
    "version": 3
   },
   "file_extension": ".py",
   "mimetype": "text/x-python",
   "name": "python",
   "nbconvert_exporter": "python",
   "pygments_lexer": "ipython3",
   "version": "3.12.7"
  }
 },
 "nbformat": 4,
 "nbformat_minor": 2
}
