{
 "cells": [
  {
   "cell_type": "markdown",
   "metadata": {},
   "source": [
    "## Subhechha Gautam\n",
    "### This is my first hello world program\n"
   ]
  },
  {
   "cell_type": "code",
   "execution_count": 7,
   "metadata": {},
   "outputs": [
    {
     "name": "stdout",
     "output_type": "stream",
     "text": [
      "hello world\n"
     ]
    }
   ],
   "source": [
    "hello = \"hello world\"\n",
    "print(hello)"
   ]
  },
  {
   "cell_type": "markdown",
   "metadata": {},
   "source": [
    "# SUM DIFF PRODUCT DIV REM"
   ]
  },
  {
   "cell_type": "code",
   "execution_count": 21,
   "metadata": {},
   "outputs": [
    {
     "name": "stdout",
     "output_type": "stream",
     "text": [
      "5 10\n",
      "15\n",
      "-5\n",
      "50\n",
      "0.5\n",
      "5\n"
     ]
    }
   ],
   "source": [
    "a = 5\n",
    "b = 10\n",
    "sum_of_a_b= a + b\n",
    "diff_of_a_b= a- b\n",
    "product_of_a_b = a*b\n",
    "div_of_a_b = a/b\n",
    "rem_a_b = a % b\n",
    "\n",
    "print(a ,b)\n",
    "print(sum_of_a_b)\n",
    "print(diff_of_a_b)\n",
    "print(product_of_a_b)\n",
    "print(div_of_a_b)\n",
    "print(rem_a_b)"
   ]
  },
  {
   "cell_type": "markdown",
   "metadata": {},
   "source": []
  },
  {
   "cell_type": "code",
   "execution_count": null,
   "metadata": {},
   "outputs": [],
   "source": [
    "name = \"Subhek Gautam\"\n",
    "#length\n",
    "total_no_of_chars = len(name)\n",
    "print(total_no_of_chars)\n",
    "\n",
    "#sub-string\n",
    "first_name = name[0:6]\n",
    "last_name = name[7:]\n",
    "\n",
    "#get first char \n",
    "first_char = name[0]\n",
    "print(first_char)\n",
    "\n",
    "#last char\n",
    "last_char = name[len(name)-1]\n",
    "print(first_name, last_name) \n",
    "print(first_char, last_char)\n",
    "\n",
    "paragraph = '''heheheheheheheheheheh'''\n",
    "len(paragraph)\n",
    "\n",
    "#concatination\n",
    "full_name = first_name + \" \" + last_name\n",
    "full_name1 = f\"{first_name} {last_name}\"\n",
    "print(full_name, full_name1)\n",
    "\n",
    "print(name.upper())\n",
    "      #capital\n",
    "      \n",
    "\n"
   ]
  },
  {
   "cell_type": "markdown",
   "metadata": {},
   "source": [
    "# Loop if else(iteration)"
   ]
  },
  {
   "cell_type": "code",
   "execution_count": 6,
   "metadata": {},
   "outputs": [
    {
     "name": "stdout",
     "output_type": "stream",
     "text": [
      "go to sleep no class\n"
     ]
    }
   ],
   "source": [
    "time = 1\n",
    "if time>=10 and time<12:\n",
    "    print(\"It is time for math\")\n",
    "elif time>=12 and time<14: \n",
    "    print(\"It is time for DSA\")\n",
    "elif time>=14:\n",
    "    print(\"It is time for English\")\n",
    "else:\n",
    "    print(\"go to sleep no class\")"
   ]
  },
  {
   "cell_type": "code",
   "execution_count": 1,
   "metadata": {},
   "outputs": [
    {
     "name": "stdout",
     "output_type": "stream",
     "text": [
      "Hello 1\n",
      "Hello 2\n",
      "Hello 3\n",
      "Hello 4\n",
      "Hello 5\n",
      "Hello 6\n",
      "Hello 7\n",
      "Hello 8\n",
      "Hello 9\n",
      "Hello 10\n"
     ]
    }
   ],
   "source": [
    "from time import sleep\n",
    "counter = 1\n",
    "while counter<=10:\n",
    "    print(f\"Hello {counter}\")\n",
    "    counter += 1 \n",
    "    sleep(1)"
   ]
  },
  {
   "cell_type": "code",
   "execution_count": 2,
   "metadata": {},
   "outputs": [
    {
     "name": "stdout",
     "output_type": "stream",
     "text": [
      "5050\n"
     ]
    }
   ],
   "source": [
    "# find the sum if first n=100 natural numbers using while loop\n",
    "i = 1\n",
    "n = 100\n",
    "sum = 0\n",
    "while i<=n:\n",
    "    sum += i\n",
    "    i+=1\n",
    "print(sum)"
   ]
  },
  {
   "cell_type": "code",
   "execution_count": 3,
   "metadata": {},
   "outputs": [
    {
     "name": "stdout",
     "output_type": "stream",
     "text": [
      "2550\n"
     ]
    }
   ],
   "source": [
    "# find the sum of first n even numbers, n=100 using while loop\n",
    "i = 1\n",
    "n = 100\n",
    "sum = 0\n",
    "while i<=n:\n",
    "    if i%2 == 0:\n",
    "        sum += i\n",
    "    i+=1\n",
    "print(sum)"
   ]
  },
  {
   "cell_type": "code",
   "execution_count": 4,
   "metadata": {},
   "outputs": [
    {
     "name": "stdout",
     "output_type": "stream",
     "text": [
      "2550 2500\n"
     ]
    }
   ],
   "source": [
    "# find the sum of first n even numbers, n=100 using while loop\n",
    "i = 1\n",
    "n = 100\n",
    "sum_of_even_number = 0\n",
    "sum_of_odd_number = 0\n",
    "while i<=n:\n",
    "    if i%2 == 0:\n",
    "        sum_of_even_number += i\n",
    "    else:\n",
    "        sum_of_odd_number += i\n",
    "    i+=1\n",
    "print(sum_of_even_number, sum_of_odd_number)"
   ]
  },
  {
   "cell_type": "markdown",
   "metadata": {},
   "source": [
    "### Python List\n",
    "# List is ordered collection of items"
   ]
  },
  {
   "cell_type": "code",
   "execution_count": 9,
   "metadata": {},
   "outputs": [
    {
     "name": "stdout",
     "output_type": "stream",
     "text": [
      "1\n",
      "6\n",
      "5\n"
     ]
    }
   ],
   "source": [
    "numbers = [1 ,2, 3, 4, 5, 5]\n",
    "students = ['Bek', 'Hri']\n",
    "\n",
    "#access elements from list\n",
    "first_number = numbers[0]\n",
    "print(first_number)\n",
    "\n",
    "#count total number of items\n",
    "total_items = len(numbers)\n",
    "print(total_items)\n",
    "\n",
    "#last element\n",
    "last_element = numbers[total_items-1]\n",
    "print(last_element)"
   ]
  },
  {
   "cell_type": "markdown",
   "metadata": {},
   "source": [
    "# list methods\n",
    "- append (appends new item at the end)\n",
    "- pop (removes last element)\n",
    "- count (return total number of items)\n",
    "- insert (insert item at particular index)\n",
    "- extend (extend the the list)\n",
    "- copy (copy items)\n",
    "- clear (clear the items)"
   ]
  },
  {
   "cell_type": "code",
   "execution_count": 19,
   "metadata": {},
   "outputs": [
    {
     "name": "stdout",
     "output_type": "stream",
     "text": [
      "[1, 4, 5, 6, 6]\n",
      "[1, 4, 5, 6, 6, 8]\n",
      "[1, 4, 5, 6, 6]\n",
      "[4, 5, 6, 6]\n",
      "[4, 5, 11, 6, 6]\n",
      "2\n",
      "[1, 2, 3, 4]\n",
      "[]\n"
     ]
    }
   ],
   "source": [
    "numbers = [1,4,5,6,6]\n",
    "print(numbers)\n",
    "numbers.append(8) #adds new number at the end\n",
    "print(numbers)\n",
    "\n",
    "#removes the last number\n",
    "numbers.pop()\n",
    "print(numbers)\n",
    "\n",
    "#removing particular number\n",
    "numbers.remove(1)\n",
    "print(numbers)\n",
    "\n",
    "#insert \n",
    "numbers.insert(2, 11)\n",
    "print(numbers)\n",
    "\n",
    "#count\n",
    "print(numbers.count(6))\n",
    "\n",
    "#extend\n",
    "numbers_1 = [1,2]\n",
    "numbers_2 = [3,4]\n",
    "numbers_1.extend(numbers_2)\n",
    "print(numbers_1)\n",
    "\n",
    "#clears\n",
    "numbers_1.clear()\n",
    "print(numbers_1)\n"
   ]
  },
  {
   "cell_type": "code",
   "execution_count": 20,
   "metadata": {},
   "outputs": [
    {
     "name": "stdout",
     "output_type": "stream",
     "text": [
      "['Ram', 'Hari', 'Gopal']\n"
     ]
    }
   ],
   "source": [
    "students = ['Ram', \"Hari\"]\n",
    "new_students = students\n",
    "students.append('Gopal')\n",
    "print(new_students)\n",
    "\n"
   ]
  },
  {
   "cell_type": "code",
   "execution_count": 25,
   "metadata": {},
   "outputs": [
    {
     "name": "stdout",
     "output_type": "stream",
     "text": [
      "6 5\n",
      "['Ram', 'Hari']\n",
      "['Ram', 'Hari']\n",
      "Ram exists\n"
     ]
    }
   ],
   "source": [
    "a = 5\n",
    "b = a\n",
    "a = a + 1\n",
    "print(a,b)\n",
    "\n",
    "a = ['Ram', 'Hari']\n",
    "b = a.copy() #actual value copied from a\n",
    "a.append('Gopal')\n",
    "print(b)\n",
    "#check value exist in list\n",
    "print(b)\n",
    "if 'Ram' in a:\n",
    "    print('Ram exists')"
   ]
  },
  {
   "cell_type": "markdown",
   "metadata": {},
   "source": [
    "# Loop"
   ]
  },
  {
   "cell_type": "code",
   "execution_count": 31,
   "metadata": {},
   "outputs": [
    {
     "name": "stdout",
     "output_type": "stream",
     "text": [
      "8\n",
      "35\n"
     ]
    }
   ],
   "source": [
    "#find the sum of all the items in the given list\n",
    "numbers = [1,2,3,4,5,6,7,7]\n",
    "total_items = len(numbers)\n",
    "print(total_items)\n",
    "index = 0\n",
    "sum = 0\n",
    "\n",
    "while index<total_items:\n",
    "    sum += numbers[index]\n",
    "    \n",
    "    index+=1\n",
    "\n",
    "print(sum)"
   ]
  },
  {
   "cell_type": "code",
   "execution_count": 34,
   "metadata": {},
   "outputs": [
    {
     "name": "stdout",
     "output_type": "stream",
     "text": [
      "1009\n"
     ]
    }
   ],
   "source": [
    "#find the max value from the given list\n",
    "\n",
    "numbers = [-10,3,9,-50,-10,1009]\n",
    "index = 0\n",
    "total_items = len(numbers)\n",
    "\n",
    "max_value = numbers[0]\n",
    "while index<total_items:\n",
    "    item = numbers[index]\n",
    "    if item>max_value:\n",
    "        max_value = item\n",
    "    index+=1\n",
    "print(max_value)"
   ]
  },
  {
   "cell_type": "code",
   "execution_count": 49,
   "metadata": {},
   "outputs": [
    {
     "name": "stdout",
     "output_type": "stream",
     "text": [
      "-1009\n"
     ]
    }
   ],
   "source": [
    "#find the min value from the given list\n",
    "\n",
    "numbers = [-10,-3,-9,-50,-100,-1009]\n",
    "index = 0\n",
    "min_value = numbers[0]\n",
    "total_items = len(numbers)\n",
    "while index<total_items:\n",
    "    item = numbers[index]\n",
    "    if item<min_value:\n",
    "        min_value = item\n",
    "    index+=1\n",
    "   \n",
    "print (min_value)"
   ]
  },
  {
   "cell_type": "markdown",
   "metadata": {},
   "source": [
    "# Join all list items into single string"
   ]
  },
  {
   "cell_type": "code",
   "execution_count": 50,
   "metadata": {},
   "outputs": [
    {
     "name": "stdout",
     "output_type": "stream",
     "text": [
      "Ram-Hari-Shyam\n"
     ]
    }
   ],
   "source": [
    "students = ['Ram', 'Hari', 'Shyam']\n",
    "all_students = '-'.join(students)\n",
    "print(all_students)"
   ]
  },
  {
   "cell_type": "code",
   "execution_count": null,
   "metadata": {},
   "outputs": [],
   "source": []
  }
 ],
 "metadata": {
  "kernelspec": {
   "display_name": "Python 3",
   "language": "python",
   "name": "python3"
  },
  "language_info": {
   "codemirror_mode": {
    "name": "ipython",
    "version": 3
   },
   "file_extension": ".py",
   "mimetype": "text/x-python",
   "name": "python",
   "nbconvert_exporter": "python",
   "pygments_lexer": "ipython3",
   "version": "3.9.13"
  }
 },
 "nbformat": 4,
 "nbformat_minor": 2
}
