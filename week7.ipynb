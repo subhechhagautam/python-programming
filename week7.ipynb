{
 "cells": [
  {
   "cell_type": "code",
   "execution_count": 1,
   "metadata": {},
   "outputs": [
    {
     "name": "stdout",
     "output_type": "stream",
     "text": [
      "0.7071067811865475\n"
     ]
    }
   ],
   "source": [
    "import math\n",
    "from mathematics.trigonometry import cosine, sine\n",
    "\n",
    "sin_45 = sine(math.pi/4)\n",
    "print(sin_45)\n",
    "\n",
    "cos_45= cosine(math.pi/4)"
   ]
  },
  {
   "cell_type": "markdown",
   "metadata": {},
   "source": [
    "## Memoizaation/dynamic programming example"
   ]
  },
  {
   "cell_type": "code",
   "execution_count": 5,
   "metadata": {},
   "outputs": [
    {
     "name": "stdout",
     "output_type": "stream",
     "text": [
      "55\n",
      "354224848179261915075\n"
     ]
    }
   ],
   "source": [
    "#define a Fibanacci Function\n",
    "def fib_recursive(n): #time complexity(0(2^n))\n",
    "    if n <= 1:\n",
    "        return n\n",
    "    return fib_recursive(n-1) + fib_recursive(n-2)\n",
    "\n",
    "fib_10= fib_recursive(10)\n",
    "print(fib_10)\n",
    "\n",
    "#initialize the memoization dictionary with base cases\n",
    "memo = {0: 0, 1: 1}\n",
    "def fib_memo(n): #time complexity 0(n)\n",
    "    if n in memo: \n",
    "        return memo[n]  \n",
    "\n",
    "    #recursive case: calculate Fibonacci number for n\n",
    "    fib_number = fib_memo(n-1) + fib_memo(n-2)\n",
    "\n",
    "    #store the result in the memo dictionary to avoid redundant calc\n",
    "    memo[n] = fib_number\n",
    "\n",
    "    return fib_number\n",
    "\n",
    "\n",
    "print(fib_memo(100))"
   ]
  },
  {
   "cell_type": "markdown",
   "metadata": {},
   "source": [
    "## Use dict/set (hashmaps) to optimize the search\n"
   ]
  },
  {
   "cell_type": "code",
   "execution_count": 6,
   "metadata": {},
   "outputs": [
    {
     "name": "stdout",
     "output_type": "stream",
     "text": [
      "[1, 2, 4, 10]\n"
     ]
    }
   ],
   "source": [
    "# number = [1,1,2,2,4,10,10]\n",
    "numbers = [1, 1, 2, 2, 4, 10]\n",
    "unique_numbers = []\n",
    "for num in numbers:\n",
    "    if num not in unique_numbers:\n",
    "        unique_numbers.append(num)\n",
    "print(unique_numbers)"
   ]
  },
  {
   "cell_type": "code",
   "execution_count": 7,
   "metadata": {},
   "outputs": [
    {
     "name": "stdout",
     "output_type": "stream",
     "text": [
      "True\n",
      "False\n",
      "True\n",
      "False\n"
     ]
    }
   ],
   "source": [
    "#def a function that accpets a list and element and if element exists in list return True else False\n",
    "def element_exists(lst, element):\n",
    "    return element in lst\n",
    "\n",
    "# Example usage\n",
    "numbers = [1, 1, 10, 100]\n",
    "print(element_exists(numbers, 10))  # Output: True\n",
    "print(element_exists(numbers, 50))  # Output: False\n",
    "\n",
    "\n",
    "# OPTIMIZED\n",
    "def element_exists_optimized(lst, element):\n",
    "    lst_set = set(lst)  # Convert to set for faster lookups\n",
    "    return element in lst_set\n",
    "\n",
    "# Example usage\n",
    "numbers = [1, 1, 10, 100]\n",
    "print(element_exists_optimized(numbers, 10))  # Output: True\n",
    "print(element_exists_optimized(numbers, 50))  # Output: False"
   ]
  },
  {
   "cell_type": "code",
   "execution_count": 8,
   "metadata": {},
   "outputs": [
    {
     "data": {
      "text/plain": [
       "1"
      ]
     },
     "execution_count": 8,
     "metadata": {},
     "output_type": "execute_result"
    }
   ],
   "source": [
    "from collections import deque\n",
    "\n",
    "#### Queue Implementation \n",
    "# Without optimization: using list (O(n)) for dequeuing \n",
    "queue = [1, 2, 3]\n",
    "queue.append(4)\n",
    "queue.pop(0)\n",
    "\n",
    "#optimized: using deque (0(1))\n",
    "queue_deque = deque([1, 2, 3])\n",
    "queue_deque.append(4) \n",
    "queue_deque.popleft()\n"
   ]
  },
  {
   "cell_type": "markdown",
   "metadata": {},
   "source": [
    "## Homework "
   ]
  },
  {
   "cell_type": "markdown",
   "metadata": {},
   "source": [
    "## Code Profiling and Analysis"
   ]
  },
  {
   "cell_type": "markdown",
   "metadata": {},
   "source": [
    "## Command Line Profiling:"
   ]
  },
  {
   "cell_type": "code",
   "execution_count": 9,
   "metadata": {},
   "outputs": [
    {
     "name": "stdout",
     "output_type": "stream",
     "text": [
      "-77382981990027.19\n",
      "         599 function calls (595 primitive calls) in 0.005 seconds\n",
      "\n",
      "   Ordered by: cumulative time\n",
      "\n",
      "   ncalls  tottime  percall  cumtime  percall filename:lineno(function)\n",
      "      3/1    0.000    0.000    0.005    0.005 {built-in method builtins.exec}\n",
      "        1    0.000    0.000    0.005    0.005 main.py:1(<module>)\n",
      "        2    0.000    0.000    0.005    0.002 <frozen importlib._bootstrap>:1349(_find_and_load)\n",
      "        2    0.000    0.000    0.005    0.002 <frozen importlib._bootstrap>:1304(_find_and_load_unlocked)\n",
      "        2    0.000    0.000    0.003    0.002 <frozen importlib._bootstrap>:911(_load_unlocked)\n",
      "        2    0.000    0.000    0.003    0.002 <frozen importlib._bootstrap_external>:989(exec_module)\n",
      "        2    0.000    0.000    0.003    0.001 <frozen importlib._bootstrap_external>:1062(get_code)\n",
      "      5/3    0.000    0.000    0.003    0.001 <frozen importlib._bootstrap>:480(_call_with_frames_removed)\n",
      "        1    0.000    0.000    0.003    0.003 <frozen importlib._bootstrap>:1390(_handle_fromlist)\n",
      "        1    0.000    0.000    0.003    0.003 {built-in method builtins.__import__}\n",
      "        2    0.000    0.000    0.003    0.001 <frozen importlib._bootstrap_external>:1183(get_data)\n",
      "        2    0.001    0.001    0.001    0.001 {built-in method _io.open_code}\n",
      "        2    0.000    0.000    0.001    0.001 <frozen importlib._bootstrap>:1240(_find_spec)\n",
      "        2    0.000    0.000    0.001    0.001 <frozen importlib._bootstrap_external>:1520(find_spec)\n",
      "        2    0.000    0.000    0.001    0.001 <frozen importlib._bootstrap_external>:1491(_get_spec)\n",
      "        2    0.001    0.000    0.001    0.000 {method 'read' of '_io.BufferedReader' objects}\n",
      "        2    0.000    0.000    0.001    0.000 <frozen importlib._bootstrap_external>:1593(find_spec)\n",
      "       10    0.000    0.000    0.000    0.000 <frozen importlib._bootstrap_external>:140(_path_stat)\n",
      "       10    0.000    0.000    0.000    0.000 {built-in method nt.stat}\n",
      "        1    0.000    0.000    0.000    0.000 <frozen importlib._bootstrap_external>:1644(_fill_cache)\n",
      "        1    0.000    0.000    0.000    0.000 {built-in method nt.listdir}\n",
      "        2    0.000    0.000    0.000    0.000 <frozen importlib._bootstrap>:806(module_from_spec)\n",
      "       11    0.000    0.000    0.000    0.000 <frozen importlib._bootstrap_external>:96(_path_join)\n",
      "        5    0.000    0.000    0.000    0.000 <frozen importlib._bootstrap_external>:150(_path_is_mode_type)\n",
      "        2    0.000    0.000    0.000    0.000 <frozen importlib._bootstrap>:733(_init_module_attrs)\n",
      "        2    0.000    0.000    0.000    0.000 <frozen importlib._bootstrap>:416(__enter__)\n",
      "        2    0.000    0.000    0.000    0.000 <frozen importlib._bootstrap_external>:1469(_path_importer_cache)\n",
      "        4    0.000    0.000    0.000    0.000 <frozen importlib._bootstrap_external>:482(cache_from_source)\n",
      "        1    0.000    0.000    0.000    0.000 <frozen importlib._bootstrap_external>:1456(_path_hooks)\n",
      "        4    0.000    0.000    0.000    0.000 <frozen importlib._bootstrap_external>:159(_path_isfile)\n",
      "        4    0.000    0.000    0.000    0.000 <frozen importlib._bootstrap>:632(cached)\n",
      "        2    0.000    0.000    0.000    0.000 {method '__exit__' of '_io._IOBase' objects}\n",
      "        2    0.000    0.000    0.000    0.000 <frozen importlib._bootstrap_external>:611(_get_cached)\n",
      "        2    0.000    0.000    0.000    0.000 <frozen importlib._bootstrap>:304(acquire)\n",
      "        1    0.000    0.000    0.000    0.000 <frozen importlib._bootstrap_external>:1685(path_hook_for_FileFinder)\n",
      "        2    0.000    0.000    0.000    0.000 <frozen importlib._bootstrap_external>:1588(_get_spec)\n",
      "        2    0.000    0.000    0.000    0.000 <frozen importlib._bootstrap>:162(__enter__)\n",
      "        1    0.000    0.000    0.000    0.000 {built-in method builtins.print}\n",
      "        2    0.000    0.000    0.000    0.000 <frozen importlib._bootstrap_external>:751(_compile_bytecode)\n",
      "        2    0.000    0.000    0.000    0.000 trigonometry.py:18(cosine)\n",
      "        2    0.000    0.000    0.000    0.000 <frozen importlib._bootstrap_external>:802(spec_from_file_location)\n",
      "        2    0.000    0.000    0.000    0.000 <frozen importlib._bootstrap>:124(setdefault)\n",
      "        4    0.000    0.000    0.000    0.000 <frozen importlib._bootstrap_external>:132(_path_split)\n",
      "        1    0.000    0.000    0.000    0.000 <frozen importlib._bootstrap_external>:164(_path_isdir)\n",
      "        2    0.000    0.000    0.000    0.000 <frozen importlib._bootstrap_external>:1202(path_stats)\n",
      "        2    0.000    0.000    0.000    0.000 <frozen importlib._bootstrap>:426(_get_module_lock)\n",
      "        1    0.000    0.000    0.000    0.000 <frozen zipimport>:64(__init__)\n",
      "        2    0.000    0.000    0.000    0.000 {built-in method marshal.loads}\n",
      "        3    0.000    0.000    0.000    0.000 <frozen importlib._bootstrap_external>:185(_path_abspath)\n",
      "        4    0.000    0.000    0.000    0.000 {built-in method builtins.max}\n",
      "        3    0.000    0.000    0.000    0.000 <frozen importlib._bootstrap_external>:172(_path_isabs)\n",
      "        2    0.000    0.000    0.000    0.000 <frozen importlib._bootstrap>:74(__new__)\n",
      "        1    0.000    0.000    0.000    0.000 {method 'disable' of '_lsprof.Profiler' objects}\n",
      "        1    0.000    0.000    0.000    0.000 <frozen importlib._bootstrap_external>:1567(__init__)\n",
      "       20    0.000    0.000    0.000    0.000 trigonometry.py:1(factorial)\n",
      "       32    0.000    0.000    0.000    0.000 {method 'startswith' of 'str' objects}\n",
      "        2    0.000    0.000    0.000    0.000 <frozen importlib._bootstrap_external>:666(_classify_pyc)\n",
      "        2    0.000    0.000    0.000    0.000 <frozen importlib._bootstrap>:232(__init__)\n",
      "       46    0.000    0.000    0.000    0.000 {method 'endswith' of 'str' objects}\n",
      "        2    0.000    0.000    0.000    0.000 <frozen importlib._bootstrap>:420(__exit__)\n",
      "        2    0.000    0.000    0.000    0.000 __init__.py:102(find_spec)\n",
      "        2    0.000    0.000    0.000    0.000 <frozen importlib._bootstrap>:372(release)\n",
      "       12    0.000    0.000    0.000    0.000 <frozen importlib._bootstrap_external>:134(<genexpr>)\n",
      "        2    0.000    0.000    0.000    0.000 <frozen importlib._bootstrap>:445(cb)\n",
      "        6    0.000    0.000    0.000    0.000 <frozen importlib._bootstrap_external>:84(_unpack_uint32)\n",
      "       37    0.000    0.000    0.000    0.000 {method 'rstrip' of 'str' objects}\n",
      "        2    0.000    0.000    0.000    0.000 <frozen importlib._bootstrap>:982(find_spec)\n",
      "       39    0.000    0.000    0.000    0.000 {built-in method builtins.len}\n",
      "        2    0.000    0.000    0.000    0.000 <frozen importlib._bootstrap>:48(_new_module)\n",
      "        2    0.000    0.000    0.000    0.000 <frozen importlib._bootstrap_external>:699(_validate_timestamp_pyc)\n",
      "       13    0.000    0.000    0.000    0.000 {built-in method builtins.getattr}\n",
      "       20    0.000    0.000    0.000    0.000 {method 'append' of 'list' objects}\n",
      "        2    0.000    0.000    0.000    0.000 <frozen importlib._bootstrap>:1128(find_spec)\n",
      "        3    0.000    0.000    0.000    0.000 {method 'extend' of 'list' objects}\n",
      "        2    0.000    0.000    0.000    0.000 {built-in method _imp.is_builtin}\n",
      "        3    0.000    0.000    0.000    0.000 {built-in method nt._path_splitroot}\n",
      "       15    0.000    0.000    0.000    0.000 {method 'join' of 'str' objects}\n",
      "        2    0.000    0.000    0.000    0.000 <frozen importlib._bootstrap>:82(remove)\n",
      "       10    0.000    0.000    0.000    0.000 {method 'rpartition' of 'str' objects}\n",
      "        8    0.000    0.000    0.000    0.000 {method 'rfind' of 'str' objects}\n",
      "        2    0.000    0.000    0.000    0.000 <frozen importlib._bootstrap_external>:643(_check_name_wrapper)\n",
      "        8    0.000    0.000    0.000    0.000 <frozen importlib._bootstrap>:1226(__exit__)\n",
      "        2    0.000    0.000    0.000    0.000 <frozen importlib._bootstrap>:79(__init__)\n",
      "        8    0.000    0.000    0.000    0.000 <frozen importlib._bootstrap>:1222(__enter__)\n",
      "        2    0.000    0.000    0.000    0.000 {built-in method _thread.allocate_lock}\n",
      "        5    0.000    0.000    0.000    0.000 {built-in method builtins.hasattr}\n",
      "        9    0.000    0.000    0.000    0.000 <frozen importlib._bootstrap>:491(_verbose_message)\n",
      "       12    0.000    0.000    0.000    0.000 {built-in method _imp.acquire_lock}\n",
      "        6    0.000    0.000    0.000    0.000 {method 'get' of 'dict' objects}\n",
      "        2    0.000    0.000    0.000    0.000 <frozen importlib._bootstrap_external>:67(_relax_case)\n",
      "        6    0.000    0.000    0.000    0.000 {built-in method nt.fspath}\n",
      "        2    0.000    0.000    0.000    0.000 <frozen importlib._bootstrap>:173(__exit__)\n",
      "        1    0.000    0.000    0.000    0.000 {built-in method nt.getcwd}\n",
      "       12    0.000    0.000    0.000    0.000 {built-in method _imp.release_lock}\n",
      "       11    0.000    0.000    0.000    0.000 {method 'lower' of 'str' objects}\n",
      "        1    0.000    0.000    0.000    0.000 {built-in method builtins.locals}\n",
      "        4    0.000    0.000    0.000    0.000 {method 'replace' of 'str' objects}\n",
      "        6    0.000    0.000    0.000    0.000 {method 'partition' of 'str' objects}\n",
      "        8    0.000    0.000    0.000    0.000 {built-in method builtins.isinstance}\n",
      "        1    0.000    0.000    0.000    0.000 {method 'format' of 'str' objects}\n",
      "        6    0.000    0.000    0.000    0.000 {built-in method from_bytes}\n",
      "        6    0.000    0.000    0.000    0.000 {method 'add' of 'set' objects}\n",
      "        4    0.000    0.000    0.000    0.000 {method '__exit__' of '_thread.RLock' objects}\n",
      "        2    0.000    0.000    0.000    0.000 {built-in method _imp.find_frozen}\n",
      "        1    0.000    0.000    0.000    0.000 {built-in method builtins.setattr}\n",
      "        2    0.000    0.000    0.000    0.000 <frozen importlib._bootstrap>:645(parent)\n",
      "        8    0.000    0.000    0.000    0.000 <frozen importlib._bootstrap_external>:1573(<genexpr>)\n",
      "        1    0.000    0.000    0.000    0.000 trigonometry.py:1(<module>)\n",
      "        2    0.000    0.000    0.000    0.000 {built-in method _weakref._remove_dead_weakref}\n",
      "        2    0.000    0.000    0.000    0.000 {built-in method __new__ of type object at 0x00007FFD79546A20}\n",
      "        2    0.000    0.000    0.000    0.000 {method 'pop' of 'dict' objects}\n",
      "        4    0.000    0.000    0.000    0.000 {built-in method _thread.get_ident}\n",
      "        3    0.000    0.000    0.000    0.000 {method 'pop' of 'list' objects}\n",
      "        2    0.000    0.000    0.000    0.000 <frozen importlib._bootstrap_external>:986(create_module)\n",
      "        2    0.000    0.000    0.000    0.000 {built-in method _imp._fix_co_filename}\n",
      "        2    0.000    0.000    0.000    0.000 <frozen importlib._bootstrap>:599(__init__)\n",
      "        2    0.000    0.000    0.000    0.000 {method 'remove' of 'list' objects}\n",
      "        2    0.000    0.000    0.000    0.000 <frozen importlib._bootstrap>:412(__init__)\n",
      "        2    0.000    0.000    0.000    0.000 <frozen importlib._bootstrap_external>:1153(__init__)\n",
      "        2    0.000    0.000    0.000    0.000 <frozen importlib._bootstrap_external>:1178(get_filename)\n",
      "        2    0.000    0.000    0.000    0.000 <frozen importlib._bootstrap>:158(__init__)\n",
      "        2    0.000    0.000    0.000    0.000 <frozen importlib._bootstrap>:653(has_location)\n",
      "        1    0.000    0.000    0.000    0.000 __init__.py:109(<lambda>)\n",
      "        1    0.000    0.000    0.000    0.000 __init__.py:1(<module>)\n",
      "\n",
      "\n"
     ]
    }
   ],
   "source": [
    "!python -m cProfile main.py"
   ]
  },
  {
   "cell_type": "markdown",
   "metadata": {},
   "source": [
    "## Use Built-in Libraries"
   ]
  },
  {
   "cell_type": "code",
   "execution_count": null,
   "metadata": {},
   "outputs": [],
   "source": [
    "import math\n",
    "from collections import deque, Counter \n",
    "\n",
    "# custom implementation \n",
    "def custom_sqrt(x):\n",
    "    return x ** 0.5 \n",
    "\n",
    "#optimized using math.sqrt()\n",
    "def "
   ]
  }
 ],
 "metadata": {
  "kernelspec": {
   "display_name": "base",
   "language": "python",
   "name": "python3"
  },
  "language_info": {
   "codemirror_mode": {
    "name": "ipython",
    "version": 3
   },
   "file_extension": ".py",
   "mimetype": "text/x-python",
   "name": "python",
   "nbconvert_exporter": "python",
   "pygments_lexer": "ipython3",
   "version": "3.12.7"
  }
 },
 "nbformat": 4,
 "nbformat_minor": 2
}
